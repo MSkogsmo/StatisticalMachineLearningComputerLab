{
 "cells": [
  {
   "cell_type": "markdown",
   "metadata": {},
   "source": [
    "# Image classification with Deep Learning\n",
    "\n",
    "This notebook implements the computer lab work on deep learning, part of the course Statistical Machine Learning, 1RT700, at Uppsala University. The lab instructions can be found [here](https://github.com/nikwa/deep-learning-course/blob/master/lab-instructions/DLlab_labpm_python.pdf)."
   ]
  },
  {
   "cell_type": "markdown",
   "metadata": {},
   "source": [
    "## Basics of TensorFlow\n",
    "We start by running some basic TensorFlow commands to get acquainted with the library (corresponding to Section 2 of the instructions)."
   ]
  },
  {
   "cell_type": "code",
   "execution_count": 11,
   "metadata": {},
   "outputs": [],
   "source": [
    "# Load the tensorflow package\n",
    "import tensorflow as tf\n",
    "tf.logging.set_verbosity(tf.logging.ERROR)\n",
    "\n",
    "# Create a constant representing x=2\n",
    "x = tf.constant(value=2)\n",
    "\n",
    "# Create a constant representing y=1\n",
    "y = tf.constant(value=1)\n",
    "\n",
    "# Add the two numbers\n",
    "z = x+y"
   ]
  },
  {
   "cell_type": "markdown",
   "metadata": {},
   "source": [
    "To carry out the computation we need to launch the graph in a session."
   ]
  },
  {
   "cell_type": "code",
   "execution_count": 12,
   "metadata": {},
   "outputs": [
    {
     "name": "stdout",
     "output_type": "stream",
     "text": [
      "3\n"
     ]
    }
   ],
   "source": [
    "# Create session\n",
    "sess = tf.Session()\n",
    "\n",
    "# Compute\n",
    "result = sess.run(z)\n",
    "print(result)"
   ]
  },
  {
   "cell_type": "code",
   "execution_count": 13,
   "metadata": {},
   "outputs": [
    {
     "name": "stdout",
     "output_type": "stream",
     "text": [
      "[2, 1, 3]\n"
     ]
    }
   ],
   "source": [
    "# Evalute a list of nodes\n",
    "result = sess.run([x,y,z])\n",
    "print(result)"
   ]
  },
  {
   "cell_type": "markdown",
   "metadata": {},
   "source": [
    "When we are done, the session should be closed to free up resources."
   ]
  },
  {
   "cell_type": "code",
   "execution_count": 14,
   "metadata": {
    "collapsed": true
   },
   "outputs": [],
   "source": [
    "sess.close()"
   ]
  },
  {
   "cell_type": "markdown",
   "metadata": {},
   "source": [
    "To construct functions we make use of placeholders."
   ]
  },
  {
   "cell_type": "code",
   "execution_count": 15,
   "metadata": {},
   "outputs": [
    {
     "name": "stdout",
     "output_type": "stream",
     "text": [
      "3.0\n"
     ]
    }
   ],
   "source": [
    "x = tf.placeholder(dtype=tf.float32)\n",
    "y = tf.placeholder(dtype=tf.float32)\n",
    "z = x+y\n",
    "\n",
    "# Create a session and feed the desired input to the graph\n",
    "sess = tf.Session()\n",
    "result = sess.run(z,feed_dict={x:2, y:1})\n",
    "print(result)\n",
    "sess.close()"
   ]
  },
  {
   "cell_type": "markdown",
   "metadata": {},
   "source": [
    "Variables can be updated to change their values during execution."
   ]
  },
  {
   "cell_type": "code",
   "execution_count": 16,
   "metadata": {},
   "outputs": [
    {
     "name": "stdout",
     "output_type": "stream",
     "text": [
      "0.0\n",
      "1.0\n",
      "2.0\n",
      "3.0\n"
     ]
    }
   ],
   "source": [
    "x = tf.Variable(initial_value=0.0)\n",
    "y = tf.constant(value=1.0)\n",
    "new_value = x+y\n",
    "update = tf.assign(x,new_value)\n",
    "\n",
    "# We first have to add this initialization operation to the graph\n",
    "init_op = tf.global_variables_initializer()\n",
    "\n",
    "# Create session and run the graph operations in a for loop\n",
    "sess = tf.Session()\n",
    "sess.run(init_op)\n",
    "print(sess.run(x))\n",
    "for i in range(0,3):\n",
    "    sess.run(update)\n",
    "    print(sess.run(x))\n",
    "\n",
    "sess.close()"
   ]
  },
  {
   "cell_type": "markdown",
   "metadata": {},
   "source": [
    "## Linear regression example\n",
    "Next we consider a simple linear regression example using TensorFlow. We consider the model\n",
    "$$Y = \\beta_0 + X\\beta_1 + \\epsilon$$\n",
    "where $\\epsilon$ represents the noise term.\n",
    "\n",
    "We start by generating some synthetic data."
   ]
  },
  {
   "cell_type": "code",
   "execution_count": 17,
   "metadata": {
    "collapsed": true
   },
   "outputs": [],
   "source": [
    "import numpy as np\n",
    "# Generate data\n",
    "n = 100\n",
    "xt = np.random.uniform(low=0,high=1,size=n)\n",
    "beta_true = [0.3, 0.1]\n",
    "yt = beta_true[0] + beta_true[1]*xt + 0.01*np.random.randn(n)"
   ]
  },
  {
   "cell_type": "markdown",
   "metadata": {},
   "source": [
    "Plot the data to se what it looks like."
   ]
  },
  {
   "cell_type": "code",
   "execution_count": 18,
   "metadata": {},
   "outputs": [
    {
     "data": {
      "image/png": "[encoded data removed]",
      "text/plain": [
       "<matplotlib.figure.Figure at 0x182e676e10>"
      ]
     },
     "metadata": {},
     "output_type": "display_data"
    }
   ],
   "source": [
    "import matplotlib.pyplot as plt\n",
    "plt.plot(xt,yt,'o',label='data')\n",
    "plt.plot([0,1],[beta_true[0],beta_true[0]+beta_true[1]*1],'k--',label='True model')\n",
    "plt.legend()\n",
    "plt.show()"
   ]
  },
  {
   "cell_type": "markdown",
   "metadata": {},
   "source": [
    "We are now ready to fit a model using TensorFlow."
   ]
  },
  {
   "cell_type": "code",
   "execution_count": 19,
   "metadata": {
    "collapsed": true
   },
   "outputs": [],
   "source": [
    "# Create placeholders for data and parameters\n",
    "X = tf.placeholder(dtype=tf.float32, shape=(None,2))\n",
    "Y = tf.placeholder(dtype=tf.float32, shape=(None,1))\n",
    "beta = tf.Variable(initial_value = tf.constant(value=1.0, shape=(2,1)), dtype=tf.float32)\n",
    "\n",
    "# Construct loss function (MSE)\n",
    "Z = tf.matmul(X, beta)\n",
    "#mse = tf.losses.mean_squared_error(Y,Z)\n",
    "#mean_squared_error = tf.reduce_mean((Z-Y)^2)\n",
    "mse = tf.reduce_mean(tf.square(Y-Z))\n",
    "cost_history = np.empty(shape=[1],dtype=float)\n",
    "\n",
    "# Optimize with gradient descent\n",
    "gamma = 0.1 # Learning rate (step size)\n",
    "train_step = tf.train.GradientDescentOptimizer(gamma).minimize(mse)\n",
    "\n",
    "# Start session\n",
    "sess = tf.Session()\n",
    "sess.run(tf.global_variables_initializer())\n",
    "\n",
    "# Build data matrix\n",
    "Xt = np.column_stack((np.ones(n),xt))\n",
    "Yt = np.reshape(yt,[n,1])\n",
    "\n",
    "# Update parameters in a loop\n",
    "for i in range(1000):\n",
    "    sess.run(train_step, feed_dict={X:Xt,Y:Yt})\n",
    "    \n",
    "# Predict the output before closing the session\n",
    "betahat = sess.run(beta)\n",
    "Zout = sess.run(Z,feed_dict={X:Xt})\n",
    "sess.close()"
   ]
  },
  {
   "cell_type": "markdown",
   "metadata": {},
   "source": [
    "Plot the results"
   ]
  },
  {
   "cell_type": "code",
   "execution_count": 20,
   "metadata": {},
   "outputs": [
    {
     "data": {
      "image/png": "[encoded data removed]",
      "text/plain": [
       "<matplotlib.figure.Figure at 0x182e77e710>"
      ]
     },
     "metadata": {},
     "output_type": "display_data"
    }
   ],
   "source": [
    "plt.plot(xt,yt,'o',label='data')\n",
    "plt.plot([0,1],[beta_true[0],beta_true[0]+beta_true[1]*1],'k--',label='True model')\n",
    "plt.plot([0,1],[betahat[0],betahat[0]+betahat[1]*1],'r-',label='Estimated model')\n",
    "plt.legend()\n",
    "plt.show()"
   ]
  },
  {
   "cell_type": "code",
   "execution_count": null,
   "metadata": {
    "collapsed": true
   },
   "outputs": [],
   "source": []
  },
  {
   "cell_type": "code",
   "execution_count": null,
   "metadata": {
    "collapsed": true
   },
   "outputs": [],
   "source": []
  }
 ],
 "metadata": {
  "anaconda-cloud": {},
  "kernelspec": {
   "display_name": "Python 3",
   "language": "python",
   "name": "python3"
  },
  "language_info": {
   "codemirror_mode": {
    "name": "ipython",
    "version": 3
   },
   "file_extension": ".py",
   "mimetype": "text/x-python",
   "name": "python",
   "nbconvert_exporter": "python",
   "pygments_lexer": "ipython3",
   "version": "3.6.3"
  }
 },
 "nbformat": 4,
 "nbformat_minor": 2
}
